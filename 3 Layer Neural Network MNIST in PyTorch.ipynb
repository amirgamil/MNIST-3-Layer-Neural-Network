{
 "cells": [
  {
   "cell_type": "code",
   "execution_count": 2,
   "metadata": {},
   "outputs": [],
   "source": [
    "import torch\n",
    "import torchvision\n",
    "import torch.nn as nn\n",
    "import torch.nn.functional as F\n",
    "import os\n",
    "import numpy as np\n",
    "from torchvision.datasets import MNIST"
   ]
  },
  {
   "cell_type": "code",
   "execution_count": 27,
   "metadata": {},
   "outputs": [
    {
     "name": "stdout",
     "output_type": "stream",
     "text": [
      "<torch.utils.data.dataloader.DataLoader object at 0x128fdc950>\n"
     ]
    }
   ],
   "source": [
    "batch_size_train = 64\n",
    "batch_size_test = 1000\n",
    "train_loader = torch.utils.data.DataLoader(\n",
    "  torchvision.datasets.MNIST(\"MNIST/processed/training.pt\", train=True, download=False,\n",
    "                             transform=torchvision.transforms.Compose([\n",
    "                               torchvision.transforms.ToTensor(),\n",
    "                               torchvision.transforms.Normalize(\n",
    "                                 (0.1307,), (0.3081,))\n",
    "                             ])),\n",
    "  batch_size=batch_size_train, shuffle=True)\n",
    "\n",
    "test_loader = torch.utils.data.DataLoader(\n",
    "  torchvision.datasets.MNIST(\"MNIST/processed/test.pt\", train=False, download=False,\n",
    "                             transform=torchvision.transforms.Compose([\n",
    "                               torchvision.transforms.ToTensor(),\n",
    "                               torchvision.transforms.Normalize(\n",
    "                                 (0.1307,), (0.3081,))\n",
    "                             ])),\n",
    "  batch_size=batch_size_test, shuffle=True)\n",
    "print(train_loader)"
   ]
  },
  {
   "cell_type": "code",
   "execution_count": 28,
   "metadata": {},
   "outputs": [],
   "source": [
    "def reshape_data():\n",
    "    for batch_id, (images, labels) in enumerate(train_loader):\n",
    "        #used to flatten data to get shape of [64 by 784]\n",
    "        images = images.view(64, -1)\n",
    "        print(images.size())\n",
    "    for batch_id, (images, labels) in enumerate(test_loader):\n",
    "        images = images.view(64, -1)\n",
    "#Note features are arranged in columns giving row vectors thus must y = X.W + b"
   ]
  },
  {
   "cell_type": "code",
   "execution_count": 43,
   "metadata": {},
   "outputs": [],
   "source": [
    "class NeuralNetwork(nn.Module):\n",
    "    def __init__(self, ):\n",
    "        super(NeuralNetwork, self).__init__()\n",
    "        self.nodes_layer_1 = 100\n",
    "        self.nodes_layer_2 = 50\n",
    "        self.input_layers = 784\n",
    "        self.output_layers = 10\n",
    "        self.training_batch_size = 64\n",
    "        self.learning_rate = 0.05\n",
    "        \n",
    "        self.W1 = torch.randn(self.input_layers, self.nodes_layer_1)\n",
    "        self.b1 = torch.zeros(self.training_batch_size, 100)\n",
    "        \n",
    "        self.W2 = torch.randn(self.nodes_layer_1, self.nodes_layer_2)\n",
    "        self.b2 = torch.zeros(self.training_batch_size, 100)\n",
    "        \n",
    "        self.W3 = torch.randn(self.nodes_layer_2, self.output_layers)\n",
    "        self.b3 = torch.zeros(self.training_batch_size, 10)\n",
    "        \n",
    "    def sigmoid(self, s):\n",
    "        return 1 / (1 + torch.exp(-s))\n",
    "    \n",
    "    def sigmoidPrime(self, s):\n",
    "        return s * (1-s)\n",
    "    \n",
    "    def forward(self, x):\n",
    "        self.z1 = self.sigmoid(torch.matmul(x, self.W1) + self.b1)\n",
    "        self.z2 = self.sigmoid(torch.matmul(self.z1, self.W2) + self.b2)\n",
    "        o = self.sigmoid(torch.matmul(self.z2, self.W3) + self.b3)\n",
    "        return o\n",
    "    \n",
    "    def backward(self, x, y, o):\n",
    "        loss = (o - y).pow(2)\n",
    "        o_error = 2 * (o-y)\n",
    "        #Note db3 is the same as dz3\n",
    "        dz3 = o_error * self.sigmoidPrime(o)\n",
    "        dW3 = torch.matmul(dz3, torch.t(self.z2))\n",
    "        #Note db2 is the same as dz2\n",
    "        dz2 = torch.matmul(dz2, torch.t(self.W3))*self.sigmoidPrime(self.z2)\n",
    "        dW2 = dz2 * self.z1\n",
    "        #Note db1 is the same as dz1\n",
    "        dz1 = torch.matmul(dz2, torch.t(self.W2))*self.sigmoidPrime(self.z1)\n",
    "        dW1 = dz1 * x\n",
    "        \n",
    "        self.W3 = self.W3 - (self.learning_rate*dW3)\n",
    "        self.b3 = self.b3 - (self.learning_rate*dz3)\n",
    "        \n",
    "        self.W2 = self.W2 - (self.learning_rate*dW2)\n",
    "        self.b2 = self.b2 - (self.learning_rate*dz2)\n",
    "        \n",
    "        self.W1 = self.W1 - (self.learning_rate*dW1)\n",
    "        self.b1 = self.b1 - (self.learning_rate*dz1)\n",
    "    \n",
    "    def train(self, x, y):\n",
    "        # forward + backward pass for training\n",
    "        o = self.forward(x)\n",
    "        self.backward(x, y, o)\n",
    "    \n",
    "    def saveWeights(self, model):\n",
    "        # we will use the PyTorch internal storage functions\n",
    "        torch.save(model, \"NN\")\n",
    "        # you can reload model with all the weights and so forth with:\n",
    "        # torch.load(\"NN\")\n",
    "        \n",
    "#     def predict(self):\n",
    "#         print (\"Predicted data based on trained weights: \")\n",
    "#         print (\"Input (scaled): \\n\" + str(x_test))\n",
    "#         print (\"Output: \\n\" + str(self.forward(x_test)))"
   ]
  },
  {
   "cell_type": "code",
   "execution_count": 44,
   "metadata": {},
   "outputs": [
    {
     "name": "stderr",
     "output_type": "stream",
     "text": [
      "/opt/anaconda3/lib/python3.7/site-packages/torch/serialization.py:360: UserWarning: Couldn't retrieve source code for container of type NeuralNetwork. It won't be checked for correctness upon loading.\n",
      "  \"type \" + obj.__name__ + \". It won't be checked \"\n"
     ]
    }
   ],
   "source": [
    "NN = NeuralNetwork()\n",
    "epochs = len(train_loader)\n",
    "\n",
    "for batch_id, (images, labels) in enumerate(train_loader):\n",
    "    if images.size != torch.Size([64, 1, 28, 28]):\n",
    "        continue\n",
    "    x = images.view(64, -1)\n",
    "    print (\"#\" + str(batch_id) + \" Loss: \" + str(torch.mean((y - NN(x))**2).detach().item()))  # mean sum squared loss\n",
    "    NN.train(X, y)\n",
    "NN.saveWeights(NN)"
   ]
  },
  {
   "cell_type": "code",
   "execution_count": null,
   "metadata": {},
   "outputs": [],
   "source": []
  },
  {
   "cell_type": "code",
   "execution_count": null,
   "metadata": {},
   "outputs": [],
   "source": []
  }
 ],
 "metadata": {
  "kernelspec": {
   "display_name": "Python 3",
   "language": "python",
   "name": "python3"
  },
  "language_info": {
   "codemirror_mode": {
    "name": "ipython",
    "version": 3
   },
   "file_extension": ".py",
   "mimetype": "text/x-python",
   "name": "python",
   "nbconvert_exporter": "python",
   "pygments_lexer": "ipython3",
   "version": "3.7.4"
  }
 },
 "nbformat": 4,
 "nbformat_minor": 2
}
